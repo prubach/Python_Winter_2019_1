{
 "cells": [
  {
   "cell_type": "code",
   "execution_count": 1,
   "metadata": {},
   "outputs": [
    {
     "name": "stdout",
     "output_type": "stream",
     "text": [
      "Hello\n"
     ]
    }
   ],
   "source": [
    "print('Hello')"
   ]
  },
  {
   "cell_type": "code",
   "execution_count": 15,
   "metadata": {},
   "outputs": [
    {
     "name": "stdout",
     "output_type": "stream",
     "text": [
      "492492492492492492492492492492492492492492492492\n",
      "255\n",
      "<class 'str'>\n",
      "<class 'int'>\n",
      "<class 'float'>\n",
      "454353.3453656547\n",
      "454353345365654.6\n",
      "4.5435334536565466e+17\n"
     ]
    }
   ],
   "source": [
    "print(123123123123123123123123123123123123123123123123 * 4)\n",
    "print(0xff)\n",
    "\n",
    "print(type('abc'))\n",
    "print(type(89345))\n",
    "print(type(354.45464))\n",
    "\n",
    "print(454353.345365654654654646)\n",
    "print(454353345365654.654654646)\n",
    "print(454353345365654654.654646)"
   ]
  },
  {
   "cell_type": "code",
   "execution_count": 17,
   "metadata": {},
   "outputs": [
    {
     "name": "stdout",
     "output_type": "stream",
     "text": [
      "1.79e+308\n"
     ]
    }
   ],
   "source": [
    "print(1.79e308)"
   ]
  },
  {
   "cell_type": "code",
   "execution_count": 27,
   "metadata": {},
   "outputs": [
    {
     "name": "stdout",
     "output_type": "stream",
     "text": [
      "a\n",
      "b\n",
      "c\td\\h\n"
     ]
    }
   ],
   "source": [
    "print(\"a\\nb\\nc\\td\\h\")"
   ]
  },
  {
   "cell_type": "code",
   "execution_count": 36,
   "metadata": {},
   "outputs": [
    {
     "name": "stdout",
     "output_type": "stream",
     "text": [
      "a=5\n"
     ]
    }
   ],
   "source": [
    "a = 5\n",
    "print(f'a={a}')"
   ]
  },
  {
   "cell_type": "code",
   "execution_count": 37,
   "metadata": {},
   "outputs": [
    {
     "data": {
      "text/plain": [
       "25"
      ]
     },
     "execution_count": 37,
     "metadata": {},
     "output_type": "execute_result"
    }
   ],
   "source": [
    "a**2"
   ]
  },
  {
   "cell_type": "code",
   "execution_count": 41,
   "metadata": {},
   "outputs": [
    {
     "data": {
      "text/plain": [
       "0"
      ]
     },
     "execution_count": 41,
     "metadata": {},
     "output_type": "execute_result"
    }
   ],
   "source": [
    "a=2\n",
    "a % 2"
   ]
  },
  {
   "cell_type": "code",
   "execution_count": 42,
   "metadata": {},
   "outputs": [
    {
     "name": "stdout",
     "output_type": "stream",
     "text": [
      "a<=3\n"
     ]
    }
   ],
   "source": [
    "if a>3:\n",
    "    print(\"a>3\")\n",
    "else:\n",
    "    print(\"a<=3\")"
   ]
  },
  {
   "cell_type": "code",
   "execution_count": 44,
   "metadata": {},
   "outputs": [
    {
     "name": "stdout",
     "output_type": "stream",
     "text": [
      "a==3\n"
     ]
    }
   ],
   "source": [
    "a=3\n",
    "\n",
    "if a>3:\n",
    "    print(\"a>3\")\n",
    "elif a==3:\n",
    "    print(\"a==3\")\n",
    "else:\n",
    "    print(\"a<3\")"
   ]
  },
  {
   "cell_type": "code",
   "execution_count": 46,
   "metadata": {},
   "outputs": [
    {
     "name": "stdout",
     "output_type": "stream",
     "text": [
      "success\n"
     ]
    }
   ],
   "source": [
    "b = 6\n",
    "if a>=3 or b <7:\n",
    "    print(\"success\")"
   ]
  },
  {
   "cell_type": "code",
   "execution_count": 55,
   "metadata": {},
   "outputs": [
    {
     "name": "stdout",
     "output_type": "stream",
     "text": [
      "abc\n"
     ]
    }
   ],
   "source": [
    "if (a>=3) ^ (b < 6):\n",
    "    print('abc')"
   ]
  },
  {
   "cell_type": "code",
   "execution_count": 62,
   "metadata": {},
   "outputs": [],
   "source": [
    "for i in range(5):\n",
    "    if i==2:\n",
    "        continue\n",
    "    print(i)    \n",
    "    if i==3:\n",
    "        break"
   ]
  },
  {
   "cell_type": "code",
   "execution_count": 69,
   "metadata": {},
   "outputs": [
    {
     "name": "stdout",
     "output_type": "stream",
     "text": [
      "not even\n",
      "1\n"
     ]
    }
   ],
   "source": [
    "def check_if_even(a):\n",
    "    # comment\n",
    "    # add code here\n",
    "    if a % 2==0:\n",
    "        print('even')\n",
    "    else:\n",
    "        print('not even')    \n",
    "a=7\n",
    "check_if_even(a)\n",
    "\n",
    "a = 5\n",
    "b = a % 2\n",
    "print(b)"
   ]
  }
 ],
 "metadata": {
  "kernelspec": {
   "display_name": "Python 3",
   "language": "python",
   "name": "python3"
  },
  "language_info": {
   "codemirror_mode": {
    "name": "ipython",
    "version": 3
   },
   "file_extension": ".py",
   "mimetype": "text/x-python",
   "name": "python",
   "nbconvert_exporter": "python",
   "pygments_lexer": "ipython3",
   "version": "3.7.3"
  }
 },
 "nbformat": 4,
 "nbformat_minor": 2
}
